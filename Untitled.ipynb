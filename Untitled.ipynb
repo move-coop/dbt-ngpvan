{
 "cells": [
  {
   "cell_type": "code",
   "execution_count": 1,
   "id": "86029d9e",
   "metadata": {},
   "outputs": [],
   "source": [
    "import subprocess\n",
    "import os\n",
    "from parsons import Redshift, Table\n",
    "import json\n",
    "rs = Redshift()"
   ]
  },
  {
   "cell_type": "code",
   "execution_count": 3,
   "id": "628a86a9",
   "metadata": {},
   "outputs": [],
   "source": [
    "dd_tables = rs.query('select * from tmc_van.data_dictionary_tables')"
   ]
  },
  {
   "cell_type": "code",
   "execution_count": 4,
   "id": "6284c399",
   "metadata": {},
   "outputs": [],
   "source": [
    "dd_columns = rs.query('select * from tmc_van.data_dictionary_columns')"
   ]
  },
  {
   "cell_type": "code",
   "execution_count": 65,
   "id": "5bd4a208",
   "metadata": {},
   "outputs": [
    {
     "name": "stderr",
     "output_type": "stream",
     "text": [
      "rs_table_utilities INFO Retrieving tables info.\n"
     ]
    }
   ],
   "source": [
    "all_tables = rs.get_tables('tmc_van').select_rows(lambda row: 'tsm_tmc_' in row.tablename)"
   ]
  },
  {
   "cell_type": "code",
   "execution_count": 137,
   "id": "19f71282",
   "metadata": {},
   "outputs": [
    {
     "data": {
      "text/html": [
       "<table class='petl'>\n",
       "<thead>\n",
       "<tr>\n",
       "<th>schemaname</th>\n",
       "<th>tablename</th>\n",
       "<th>tableowner</th>\n",
       "<th>tablespace</th>\n",
       "<th>hasindexes</th>\n",
       "<th>hasrules</th>\n",
       "<th>hastriggers</th>\n",
       "</tr>\n",
       "</thead>\n",
       "<tbody>\n",
       "<tr>\n",
       "<td>tmc_van</td>\n",
       "<td>tsm_tmc_codes_vf</td>\n",
       "<td>csbottmc</td>\n",
       "<td>None</td>\n",
       "<td>True</td>\n",
       "<td>False</td>\n",
       "<td>False</td>\n",
       "</tr>\n",
       "<tr>\n",
       "<td>tmc_van</td>\n",
       "<td>tsm_tmc_contactsactivistcodes_vf</td>\n",
       "<td>csbottmc</td>\n",
       "<td>None</td>\n",
       "<td>True</td>\n",
       "<td>False</td>\n",
       "<td>False</td>\n",
       "</tr>\n",
       "<tr>\n",
       "<td>tmc_van</td>\n",
       "<td>tsm_tmc_contactscodes_vf</td>\n",
       "<td>csbottmc</td>\n",
       "<td>None</td>\n",
       "<td>True</td>\n",
       "<td>False</td>\n",
       "<td>False</td>\n",
       "</tr>\n",
       "<tr>\n",
       "<td>tmc_van</td>\n",
       "<td>tsm_tmc_contactscontacts_vf</td>\n",
       "<td>csbottmc</td>\n",
       "<td>None</td>\n",
       "<td>True</td>\n",
       "<td>False</td>\n",
       "<td>False</td>\n",
       "</tr>\n",
       "<tr>\n",
       "<td>tmc_van</td>\n",
       "<td>tsm_tmc_contactsnotes_vf</td>\n",
       "<td>csbottmc</td>\n",
       "<td>None</td>\n",
       "<td>True</td>\n",
       "<td>False</td>\n",
       "<td>False</td>\n",
       "</tr>\n",
       "</tbody>\n",
       "</table>\n",
       "<p><strong>...</strong></p>"
      ],
      "text/plain": [
       "{'schemaname': 'tmc_van', 'tablename': 'tsm_tmc_codes_vf', 'tableowner': 'csbottmc', 'tablespace': None, 'hasindexes': True, 'hasrules': False, 'hastriggers': False}\n",
       "{'schemaname': 'tmc_van', 'tablename': 'tsm_tmc_contactsactivistcodes_vf', 'tableowner': 'csbottmc', 'tablespace': None, 'hasindexes': True, 'hasrules': False, 'hastriggers': False}\n",
       "{'schemaname': 'tmc_van', 'tablename': 'tsm_tmc_contactscodes_vf', 'tableowner': 'csbottmc', 'tablespace': None, 'hasindexes': True, 'hasrules': False, 'hastriggers': False}\n",
       "{'schemaname': 'tmc_van', 'tablename': 'tsm_tmc_contactscontacts_vf', 'tableowner': 'csbottmc', 'tablespace': None, 'hasindexes': True, 'hasrules': False, 'hastriggers': False}\n",
       "{'schemaname': 'tmc_van', 'tablename': 'tsm_tmc_contactsnotes_vf', 'tableowner': 'csbottmc', 'tablespace': None, 'hasindexes': True, 'hasrules': False, 'hastriggers': False}\n",
       "..."
      ]
     },
     "execution_count": 137,
     "metadata": {},
     "output_type": "execute_result"
    }
   ],
   "source": [
    "vf_tables = all_tables.select_rows(lambda row: '_vf' in row.tablename)#['tablename']\n",
    "vf_tables.sort()"
   ]
  },
  {
   "cell_type": "code",
   "execution_count": 73,
   "id": "1a1532d4",
   "metadata": {},
   "outputs": [],
   "source": [
    "other_tables = ['tsm_tmc_users',\n",
    " 'tsm_tmc_usersusergroups',\n",
    "'tsm_tmc_committees',\n",
    "'tsm_tmc_activistcodes',\n",
    "'tsm_tmc_surveyquestions',\n",
    " 'tsm_tmc_surveyresponses']"
   ]
  },
  {
   "cell_type": "code",
   "execution_count": 87,
   "id": "b007e2e7",
   "metadata": {},
   "outputs": [],
   "source": [
    "vf_types = []\n",
    "for y in [x for x in vf_tables if '_vf' in x]:\n",
    "    cols = rs.get_columns_list(\"tmc_van\",y)\n",
    "    cols = [x for x in cols if 'type' in x]\n",
    "    vf_types = vf_types + cols\n",
    "type_tables = [x.replace('id','s') for x in list(set(vf_types))]\n",
    "\n",
    "type_tables = ['tsm_tmc_'+x for x in type_tables]"
   ]
  },
  {
   "cell_type": "code",
   "execution_count": 88,
   "id": "61f63400",
   "metadata": {},
   "outputs": [],
   "source": [
    "tables = [x.replace('_vf','') for x in vf_tables] + other_tables + type_tables\n",
    "tables.sort()"
   ]
  },
  {
   "cell_type": "code",
   "execution_count": 97,
   "id": "717d307b",
   "metadata": {},
   "outputs": [],
   "source": [
    "schema = 'tmc_van'\n",
    "args = f\"\"\" \"schema_name\": \"{schema}\", \"generate_columns\": \"true\", \"table_names\": {json.dumps(tables)}\"\"\"        \n",
    "args = \"{\"+args+\"}\"\n",
    "cmd = f\"\"\"dbt run-operation generate_source --args '{args}'\"\"\"\n",
    "result = subprocess.run(cmd, shell=True, capture_output=True, text=True)\n",
    "code = result.stdout"
   ]
  },
  {
   "cell_type": "code",
   "execution_count": 119,
   "id": "4365d576",
   "metadata": {},
   "outputs": [],
   "source": [
    "yml = \"version: 2\"+\"\\n\"+\"\\n\"+'sources:' + code.split(\"\\n\",2)[2].split('sources:')[1]\n",
    "yml = yml.replace('tsm_tmc_','').replace('sources:','definitions:').replace('name: tmc_van', 'van_source_template: &van_source_template')"
   ]
  },
  {
   "cell_type": "code",
   "execution_count": 121,
   "id": "c5badf31",
   "metadata": {},
   "outputs": [],
   "source": [
    "f = open(f\"models/base/src_template.yml\", \"a\")\n",
    "f.write(yml)\n",
    "f.close()"
   ]
  },
  {
   "cell_type": "code",
   "execution_count": 143,
   "id": "4fba805f",
   "metadata": {},
   "outputs": [],
   "source": [
    "def get_id_column_name(schema, tables, search_columns):\n",
    "    \"\"\"\n",
    "    Description:\n",
    "        Given a list of Redshift tables, figures out the ID column for each table.\n",
    "    Args:\n",
    "        tables: list\n",
    "            List of tables, from Redshift.get_tables()\n",
    "        search_columns: list\n",
    "            List of possible ID column names\n",
    "    Returns:\n",
    "        Dict that maps table names to ID columns\n",
    "    \"\"\"\n",
    "    rs = Redshift()\n",
    "    tbl_and_id_col = {}\n",
    "    for table in tables:\n",
    "        table_cols = rs.get_columns_list(schema, table)\n",
    "        for col in search_columns:\n",
    "            clean_table = table.replace('tsm_tmc_','').replace('_vf','')\n",
    "            if col in table_cols:\n",
    "                tbl_and_id_col[clean_table] = col\n",
    "                break\n",
    "            else:\n",
    "                tbl_and_id_col[clean_table] = None\n",
    "\n",
    "    return tbl_and_id_col"
   ]
  },
  {
   "cell_type": "code",
   "execution_count": 144,
   "id": "e3cf32fd",
   "metadata": {},
   "outputs": [],
   "source": [
    "COMMITTEE_COLS = ['committeeid','committeecreatedby','createdbycommitteeid','createdcommitteeid','personcommitteeid']\n",
    "tbl_and_cmte_col = get_id_column_name('tmc_van',vf_tables['tablename']+other_tables, COMMITTEE_COLS)"
   ]
  },
  {
   "cell_type": "code",
   "execution_count": 156,
   "id": "22c5ca28",
   "metadata": {},
   "outputs": [],
   "source": [
    "template = \"\"\"\n",
    "WITH base AS (\n",
    "\n",
    "    {brackets_open}\n",
    "        union_all_by_var(\n",
    "            source_variable='van',\n",
    "            default_source_table='{table}',\n",
    "            source_tables_variable='{table}'\n",
    "        )\n",
    "    {brackets_close}\n",
    "\n",
    ")\n",
    "\n",
    ", segment_by AS (\n",
    "\n",
    "    SELECT\n",
    "        *,\n",
    "        {committee}\n",
    "\n",
    "    FROM base\n",
    ")\n",
    "\n",
    "\n",
    "SELECT \n",
    "    *,\n",
    "    {brackets_open} \n",
    "    staging_metadata_fields(\n",
    "        vendor='van',\n",
    "        segment_by_column='committeeid',\n",
    "        segment_primary_keys=['{key}']\n",
    "    ) \n",
    "    {brackets_close}\n",
    "FROM segment_by\n",
    "\"\"\"\n",
    "\n",
    "brackets_open = \"{{\"\n",
    "brackets_close = \"}}\"\n",
    "vendor = 'van'\n",
    "for table in tables:\n",
    "    if 'types' not in table:\n",
    "        segment_by = tbl_and_cmte_col[table]\n",
    "        if (segment_by is not None and segment_by!='committeeid'):\n",
    "            committee = f\"\"\"{segment_by} as committeeid\"\"\"\n",
    "        elif segment_by=='committeeid':\n",
    "            committee=segment_by\n",
    "        else:\n",
    "            committee = \"NULL::int as committeeid\"\n",
    "    else:\n",
    "        committee = \"NULL::int as committeeid\"\n",
    "    key = table[:-1]+'id'\n",
    "    sql = template.format(table=table, \n",
    "                          brackets_open=brackets_open, brackets_close=brackets_close,\n",
    "                          committee=committee, key=key)\n",
    "    f = open(f\"models/base/{vendor}/base_{vendor}__{table}.sql\", \"a\")\n",
    "    f.write(sql)\n",
    "    f.close()"
   ]
  },
  {
   "cell_type": "code",
   "execution_count": 162,
   "id": "2845cd19",
   "metadata": {},
   "outputs": [],
   "source": [
    "template = \"\"\"\n",
    "    {clean_table}:\n",
    "        - name: {full_table}\n",
    "\"\"\"\n",
    "yaml = \"\"\"\n",
    "tables:\n",
    "\"\"\"\n",
    "for table in tables:\n",
    "    full_table = [x for x in all_tables['tablename'] if table in x][0]\n",
    "    yaml += template.format(clean_table=table, full_table=full_table)"
   ]
  },
  {
   "cell_type": "code",
   "execution_count": 164,
   "id": "8de6fb0b",
   "metadata": {},
   "outputs": [
    {
     "name": "stdout",
     "output_type": "stream",
     "text": [
      "\n",
      "tables:\n",
      "\n",
      "    activistcodes:\n",
      "        - name: tsm_tmc_activistcodes\n",
      "\n",
      "    codes:\n",
      "        - name: tsm_tmc_codes_vf\n",
      "\n",
      "    codetypes:\n",
      "        - name: tsm_tmc_codetypes\n",
      "\n",
      "    committees:\n",
      "        - name: tsm_tmc_committees\n",
      "\n",
      "    contactsactivistcodes:\n",
      "        - name: tsm_tmc_contactsactivistcodes_vf\n",
      "\n",
      "    contactscodes:\n",
      "        - name: tsm_tmc_contactscodes_vf\n",
      "\n",
      "    contactscontacts:\n",
      "        - name: tsm_tmc_contactscontacts_vf\n",
      "\n",
      "    contactsnotes:\n",
      "        - name: tsm_tmc_contactsnotes\n",
      "\n",
      "    contactssurveyresponses:\n",
      "        - name: tsm_tmc_contactssurveyresponses_vf\n",
      "\n",
      "    contacttypes:\n",
      "        - name: tsm_tmc_contacttypes\n",
      "\n",
      "    inputtypes:\n",
      "        - name: tsm_tmc_inputtypes\n",
      "\n",
      "    surveyquestions:\n",
      "        - name: tsm_tmc_surveyquestions\n",
      "\n",
      "    surveyresponses:\n",
      "        - name: tsm_tmc_surveyresponses\n",
      "\n",
      "    users:\n",
      "        - name: tsm_tmc_usersusergroups\n",
      "\n",
      "    usersusergroups:\n",
      "        - name: tsm_tmc_usersusergroups\n",
      "\n"
     ]
    }
   ],
   "source": [
    "print(yaml)"
   ]
  }
 ],
 "metadata": {
  "kernelspec": {
   "display_name": "Python 3",
   "language": "python",
   "name": "python3"
  },
  "language_info": {
   "codemirror_mode": {
    "name": "ipython",
    "version": 3
   },
   "file_extension": ".py",
   "mimetype": "text/x-python",
   "name": "python",
   "nbconvert_exporter": "python",
   "pygments_lexer": "ipython3",
   "version": "3.8.6"
  }
 },
 "nbformat": 4,
 "nbformat_minor": 5
}
